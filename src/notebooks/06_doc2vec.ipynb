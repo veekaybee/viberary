{
 "cells": [
  {
   "cell_type": "code",
   "execution_count": 1,
   "id": "a273c145",
   "metadata": {},
   "outputs": [],
   "source": [
    "import sys\n",
    "\n",
    "!{sys.executable} -W ignore:DEPRECATION -m pip install --quiet duckdb==0.7.1 \\\n",
    "duckdb-engine \\\n",
    "watermark \\\n",
    "jupysql \\\n",
    "sqlalchemy \\\n",
    "python-snappy \\\n",
    "pyarrow \\\n",
    "memray \\\n",
    "pandas \\\n",
    "ipywidgets  \\\n",
    "matplotlib \\\n",
    "gensim \\\n",
    "nltk \\\n",
    "plotly \\\n",
    "redis==4.5.3 \\\n",
    "jupyter-black"
   ]
  },
  {
   "cell_type": "code",
   "execution_count": 2,
   "id": "4e9a14ec",
   "metadata": {},
   "outputs": [],
   "source": [
    "import duckdb\n",
    "import re\n",
    "import pandas as pd\n",
    "import string\n",
    "from time import time\n",
    "\n",
    "from gensim.models import KeyedVectors\n",
    "from gensim.test.utils import datapath\n",
    "from gensim import utils\n",
    "from gensim.test.utils import common_texts\n",
    "\n",
    "from gensim.models.doc2vec import Doc2Vec, TaggedDocument\n",
    "\n",
    "import multiprocessing\n",
    "\n",
    "import redis"
   ]
  },
  {
   "cell_type": "code",
   "execution_count": 3,
   "id": "61a3dd84",
   "metadata": {},
   "outputs": [
    {
     "data": {
      "text/html": [
       "\n",
       "                <script type=\"application/javascript\" id=\"jupyter_black\">\n",
       "                (function() {\n",
       "                    if (window.IPython === undefined) {\n",
       "                        return\n",
       "                    }\n",
       "                    var msg = \"WARNING: it looks like you might have loaded \" +\n",
       "                        \"jupyter_black in a non-lab notebook with \" +\n",
       "                        \"`is_lab=True`. Please double check, and if \" +\n",
       "                        \"loading with `%load_ext` please review the README!\"\n",
       "                    console.log(msg)\n",
       "                    alert(msg)\n",
       "                })()\n",
       "                </script>\n",
       "                "
      ],
      "text/plain": [
       "<IPython.core.display.HTML object>"
      ]
     },
     "metadata": {},
     "output_type": "display_data"
    }
   ],
   "source": [
    "# Autoformat cells on run\n",
    "import jupyter_black\n",
    "\n",
    "jupyter_black.load()"
   ]
  },
  {
   "cell_type": "code",
   "execution_count": 4,
   "id": "37d6f685",
   "metadata": {},
   "outputs": [],
   "source": [
    "# set log level for model training\n",
    "import logging\n",
    "\n",
    "logger = logging.getLogger()\n",
    "logger.setLevel(logging.INFO)\n",
    "logging.basicConfig(\n",
    "    format=\"%(levelname)s - %(asctime)s: %(message)s\",\n",
    "    datefmt=\"%H:%M:%S\",\n",
    "    level=logging.INFO,\n",
    ")"
   ]
  },
  {
   "cell_type": "code",
   "execution_count": 5,
   "id": "adfd1b4e",
   "metadata": {},
   "outputs": [],
   "source": [
    "%load_ext sql"
   ]
  },
  {
   "cell_type": "code",
   "execution_count": 6,
   "id": "b448d0c0",
   "metadata": {},
   "outputs": [],
   "source": [
    "# Create new DB or load existing https://duckdb.org/docs/guides/python/jupyter.html\n",
    "%sql duckdb:///viberary.duckdb\n",
    "\n",
    "# connect with pyscopg\n",
    "con = duckdb.connect(\"viberary.duckdb\")"
   ]
  },
  {
   "cell_type": "code",
   "execution_count": 7,
   "id": "706086bf",
   "metadata": {},
   "outputs": [
    {
     "data": {
      "application/vnd.jupyter.widget-view+json": {
       "model_id": "751630f116cd4d9da8bf467dc6a5fb77",
       "version_major": 2,
       "version_minor": 0
      },
      "text/plain": [
       "FloatProgress(value=0.0, layout=Layout(width='100%'), style=ProgressStyle(bar_color='black'))"
      ]
     },
     "metadata": {},
     "output_type": "display_data"
    }
   ],
   "source": [
    "sentences = con.sql(\n",
    "    \"\"\"select concat_ws(' ' , lower(regexp_replace(title, '[[:^alpha:]]',' ','g')), \\\n",
    "                    lower(regexp_replace(description, '[[:^alpha:]]',' ','g'))) as sentence from goodreads_en;\"\"\"\n",
    ").df()"
   ]
  },
  {
   "cell_type": "code",
   "execution_count": null,
   "id": "58b9c9ee",
   "metadata": {},
   "outputs": [],
   "source": [
    "# input for training Doc2Vec is a list of lists or iterable\n",
    "# needs to be streamable https://radimrehurek.com/gensim/models/word2vec.html\n",
    "\n",
    "\n",
    "# class CorpusReader:\n",
    "#     \"\"\"A class that returns lists of lists of strings.\"\"\"\n",
    "\n",
    "#     def get_doc_words() -> list:\n",
    "#         doc_words = []\n",
    "#         corpus_path = datapath(\"sentences_en.csv\")\n",
    "#         for line in open(corpus_path):\n",
    "#             processed_line = utils.simple_preprocess(line)\n",
    "#             doc_words.append(processed_line)\n",
    "\n",
    "#         return doc_words\n",
    "\n",
    "\n",
    "class CorpusReader:\n",
    "    \"\"\"An iterator that yields sentences (lists of str).\"\"\"\n",
    "\n",
    "    def __iter__(self):\n",
    "        corpus_path = datapath(\"sentences_en.csv\")\n",
    "        for line in open(corpus_path):\n",
    "            yield utils.simple_preprocess(line)"
   ]
  },
  {
   "cell_type": "code",
   "execution_count": 14,
   "id": "d078eb2b",
   "metadata": {},
   "outputs": [
    {
     "name": "stderr",
     "output_type": "stream",
     "text": [
      "INFO:gensim.utils:Doc2Vec lifecycle event {'params': 'Doc2Vec<dm/m,d100,n5,w5,mc5,s0.001,t3>', 'datetime': '2023-04-08T14:05:46.700508', 'gensim': '4.3.1', 'python': '3.9.12 (main, Mar 26 2022, 15:51:13) \\n[Clang 12.0.0 (clang-1200.0.32.29)]', 'platform': 'macOS-10.16-x86_64-i386-64bit', 'event': 'created'}\n"
     ]
    }
   ],
   "source": [
    "sentences = CorpusReader()\n",
    "# TODO: improve list creation\n",
    "documents = [TaggedDocument(doc, [i]) for i, doc in enumerate(sentences)]\n",
    "d2v_model = Doc2Vec()"
   ]
  },
  {
   "cell_type": "code",
   "execution_count": 16,
   "id": "ba1552b7",
   "metadata": {},
   "outputs": [
    {
     "name": "stderr",
     "output_type": "stream",
     "text": [
      "INFO:gensim.models.doc2vec:collecting all words and their counts\n",
      "INFO:gensim.models.doc2vec:PROGRESS: at example #0, processed 0 words (0 words/s), 0 word types, 0 tags\n",
      "INFO:gensim.models.doc2vec:PROGRESS: at example #10000, processed 1367451 words (6416799 words/s), 52723 word types, 0 tags\n",
      "INFO:gensim.models.doc2vec:PROGRESS: at example #20000, processed 2719501 words (6311225 words/s), 74831 word types, 0 tags\n",
      "INFO:gensim.models.doc2vec:PROGRESS: at example #30000, processed 4088179 words (6155862 words/s), 92439 word types, 0 tags\n",
      "INFO:gensim.models.doc2vec:PROGRESS: at example #40000, processed 5440523 words (6265373 words/s), 107566 word types, 0 tags\n",
      "INFO:gensim.models.doc2vec:PROGRESS: at example #50000, processed 6795839 words (5931043 words/s), 121370 word types, 0 tags\n",
      "INFO:gensim.models.doc2vec:PROGRESS: at example #60000, processed 8163934 words (5695783 words/s), 133976 word types, 0 tags\n",
      "INFO:gensim.models.doc2vec:PROGRESS: at example #70000, processed 9525001 words (6144320 words/s), 145676 word types, 0 tags\n",
      "INFO:gensim.models.doc2vec:PROGRESS: at example #80000, processed 10911013 words (6358877 words/s), 156238 word types, 0 tags\n",
      "INFO:gensim.models.doc2vec:PROGRESS: at example #90000, processed 12282965 words (6550185 words/s), 166730 word types, 0 tags\n",
      "INFO:gensim.models.doc2vec:PROGRESS: at example #100000, processed 13657208 words (6353643 words/s), 177248 word types, 0 tags\n",
      "INFO:gensim.models.doc2vec:PROGRESS: at example #110000, processed 15017317 words (6269573 words/s), 186654 word types, 0 tags\n",
      "INFO:gensim.models.doc2vec:PROGRESS: at example #120000, processed 16388989 words (6330981 words/s), 195741 word types, 0 tags\n",
      "INFO:gensim.models.doc2vec:PROGRESS: at example #130000, processed 17744206 words (6270925 words/s), 204413 word types, 0 tags\n",
      "INFO:gensim.models.doc2vec:PROGRESS: at example #140000, processed 19095686 words (6071792 words/s), 212823 word types, 0 tags\n",
      "INFO:gensim.models.doc2vec:PROGRESS: at example #150000, processed 20453943 words (5759542 words/s), 220757 word types, 0 tags\n",
      "INFO:gensim.models.doc2vec:PROGRESS: at example #160000, processed 21810954 words (5796375 words/s), 227947 word types, 0 tags\n",
      "INFO:gensim.models.doc2vec:PROGRESS: at example #170000, processed 23176332 words (5914485 words/s), 235763 word types, 0 tags\n",
      "INFO:gensim.models.doc2vec:PROGRESS: at example #180000, processed 24506830 words (5884133 words/s), 243344 word types, 0 tags\n",
      "INFO:gensim.models.doc2vec:PROGRESS: at example #190000, processed 25870673 words (6053500 words/s), 250715 word types, 0 tags\n",
      "INFO:gensim.models.doc2vec:PROGRESS: at example #200000, processed 27255945 words (5693304 words/s), 257923 word types, 0 tags\n",
      "INFO:gensim.models.doc2vec:PROGRESS: at example #210000, processed 28596806 words (6177391 words/s), 264463 word types, 0 tags\n",
      "INFO:gensim.models.doc2vec:PROGRESS: at example #220000, processed 29972686 words (5558413 words/s), 271050 word types, 0 tags\n",
      "INFO:gensim.models.doc2vec:PROGRESS: at example #230000, processed 31342018 words (5917215 words/s), 277714 word types, 0 tags\n",
      "INFO:gensim.models.doc2vec:PROGRESS: at example #240000, processed 32696377 words (5915094 words/s), 284269 word types, 0 tags\n",
      "INFO:gensim.models.doc2vec:PROGRESS: at example #250000, processed 34044708 words (5982013 words/s), 290634 word types, 0 tags\n",
      "INFO:gensim.models.doc2vec:PROGRESS: at example #260000, processed 35396024 words (5791352 words/s), 296657 word types, 0 tags\n",
      "INFO:gensim.models.doc2vec:PROGRESS: at example #270000, processed 36741584 words (5414373 words/s), 302606 word types, 0 tags\n",
      "INFO:gensim.models.doc2vec:PROGRESS: at example #280000, processed 38086365 words (6158009 words/s), 308219 word types, 0 tags\n",
      "INFO:gensim.models.doc2vec:PROGRESS: at example #290000, processed 39442909 words (6068881 words/s), 314538 word types, 0 tags\n",
      "INFO:gensim.models.doc2vec:PROGRESS: at example #300000, processed 40800672 words (6100426 words/s), 320315 word types, 0 tags\n",
      "INFO:gensim.models.doc2vec:PROGRESS: at example #310000, processed 42156970 words (5889616 words/s), 326258 word types, 0 tags\n",
      "INFO:gensim.models.doc2vec:PROGRESS: at example #320000, processed 43512857 words (5915676 words/s), 331959 word types, 0 tags\n",
      "INFO:gensim.models.doc2vec:PROGRESS: at example #330000, processed 44877145 words (6228640 words/s), 337433 word types, 0 tags\n",
      "INFO:gensim.models.doc2vec:PROGRESS: at example #340000, processed 46230181 words (5970917 words/s), 342690 word types, 0 tags\n",
      "INFO:gensim.models.doc2vec:PROGRESS: at example #350000, processed 47588852 words (5951312 words/s), 348373 word types, 0 tags\n",
      "INFO:gensim.models.doc2vec:PROGRESS: at example #360000, processed 48956772 words (5654069 words/s), 353688 word types, 0 tags\n",
      "INFO:gensim.models.doc2vec:PROGRESS: at example #370000, processed 50319552 words (6180258 words/s), 358864 word types, 0 tags\n",
      "INFO:gensim.models.doc2vec:PROGRESS: at example #380000, processed 51674786 words (6063791 words/s), 363807 word types, 0 tags\n",
      "INFO:gensim.models.doc2vec:PROGRESS: at example #390000, processed 53053632 words (5744740 words/s), 369084 word types, 0 tags\n",
      "INFO:gensim.models.doc2vec:PROGRESS: at example #400000, processed 54421552 words (5498325 words/s), 374038 word types, 0 tags\n",
      "INFO:gensim.models.doc2vec:PROGRESS: at example #410000, processed 55774295 words (5916560 words/s), 378798 word types, 0 tags\n",
      "INFO:gensim.models.doc2vec:PROGRESS: at example #420000, processed 57118674 words (5839399 words/s), 383362 word types, 0 tags\n",
      "INFO:gensim.models.doc2vec:PROGRESS: at example #430000, processed 58482543 words (5561229 words/s), 388896 word types, 0 tags\n",
      "INFO:gensim.models.doc2vec:PROGRESS: at example #440000, processed 59852793 words (5910189 words/s), 394087 word types, 0 tags\n",
      "INFO:gensim.models.doc2vec:PROGRESS: at example #450000, processed 61214994 words (5582218 words/s), 398958 word types, 0 tags\n",
      "INFO:gensim.models.doc2vec:PROGRESS: at example #460000, processed 62576839 words (5642186 words/s), 403491 word types, 0 tags\n",
      "INFO:gensim.models.doc2vec:PROGRESS: at example #470000, processed 63947551 words (5785142 words/s), 407869 word types, 0 tags\n",
      "INFO:gensim.models.doc2vec:PROGRESS: at example #480000, processed 65280631 words (5863109 words/s), 412402 word types, 0 tags\n",
      "INFO:gensim.models.doc2vec:PROGRESS: at example #490000, processed 66621549 words (5730740 words/s), 417127 word types, 0 tags\n",
      "INFO:gensim.models.doc2vec:PROGRESS: at example #500000, processed 67991809 words (5560772 words/s), 421481 word types, 0 tags\n",
      "INFO:gensim.models.doc2vec:PROGRESS: at example #510000, processed 69349984 words (4700103 words/s), 425708 word types, 0 tags\n",
      "INFO:gensim.models.doc2vec:PROGRESS: at example #520000, processed 70718274 words (4614287 words/s), 430007 word types, 0 tags\n",
      "INFO:gensim.models.doc2vec:PROGRESS: at example #530000, processed 72079601 words (4632962 words/s), 434504 word types, 0 tags\n",
      "INFO:gensim.models.doc2vec:PROGRESS: at example #540000, processed 73446388 words (5180672 words/s), 438737 word types, 0 tags\n",
      "INFO:gensim.models.doc2vec:PROGRESS: at example #550000, processed 74809861 words (5964334 words/s), 443174 word types, 0 tags\n",
      "INFO:gensim.models.doc2vec:PROGRESS: at example #560000, processed 76179562 words (5789964 words/s), 447469 word types, 0 tags\n",
      "INFO:gensim.models.doc2vec:PROGRESS: at example #570000, processed 77525721 words (5913882 words/s), 451371 word types, 0 tags\n",
      "INFO:gensim.models.doc2vec:PROGRESS: at example #580000, processed 78900486 words (4775983 words/s), 455443 word types, 0 tags\n",
      "INFO:gensim.models.doc2vec:PROGRESS: at example #590000, processed 80248106 words (5077368 words/s), 459604 word types, 0 tags\n",
      "INFO:gensim.models.doc2vec:PROGRESS: at example #600000, processed 81608716 words (5816928 words/s), 463757 word types, 0 tags\n",
      "INFO:gensim.models.doc2vec:PROGRESS: at example #610000, processed 82985132 words (5787622 words/s), 467539 word types, 0 tags\n",
      "INFO:gensim.models.doc2vec:PROGRESS: at example #620000, processed 84348835 words (5898128 words/s), 471406 word types, 0 tags\n",
      "INFO:gensim.models.doc2vec:PROGRESS: at example #630000, processed 85705966 words (5842696 words/s), 475066 word types, 0 tags\n",
      "INFO:gensim.models.doc2vec:PROGRESS: at example #640000, processed 87057351 words (5887368 words/s), 478880 word types, 0 tags\n"
     ]
    },
    {
     "name": "stderr",
     "output_type": "stream",
     "text": [
      "INFO:gensim.models.doc2vec:PROGRESS: at example #650000, processed 88400910 words (5807436 words/s), 482421 word types, 0 tags\n",
      "INFO:gensim.models.doc2vec:PROGRESS: at example #660000, processed 89752928 words (5882070 words/s), 486118 word types, 0 tags\n",
      "INFO:gensim.models.doc2vec:PROGRESS: at example #670000, processed 91110673 words (5646269 words/s), 490223 word types, 0 tags\n",
      "INFO:gensim.models.doc2vec:PROGRESS: at example #680000, processed 92466771 words (5729999 words/s), 494046 word types, 0 tags\n",
      "INFO:gensim.models.doc2vec:PROGRESS: at example #690000, processed 93828408 words (5841079 words/s), 498149 word types, 0 tags\n",
      "INFO:gensim.models.doc2vec:PROGRESS: at example #700000, processed 95174888 words (5154168 words/s), 501856 word types, 0 tags\n",
      "INFO:gensim.models.doc2vec:PROGRESS: at example #710000, processed 96537390 words (5669910 words/s), 505667 word types, 0 tags\n",
      "INFO:gensim.models.doc2vec:PROGRESS: at example #720000, processed 97884448 words (5604956 words/s), 509550 word types, 0 tags\n",
      "INFO:gensim.models.doc2vec:PROGRESS: at example #730000, processed 99248037 words (5624810 words/s), 512876 word types, 0 tags\n",
      "INFO:gensim.models.doc2vec:PROGRESS: at example #740000, processed 100609335 words (5857066 words/s), 516470 word types, 0 tags\n",
      "INFO:gensim.models.doc2vec:PROGRESS: at example #750000, processed 101969547 words (5615312 words/s), 520272 word types, 0 tags\n",
      "INFO:gensim.models.doc2vec:PROGRESS: at example #760000, processed 103323174 words (5639624 words/s), 523785 word types, 0 tags\n",
      "INFO:gensim.models.doc2vec:PROGRESS: at example #770000, processed 104665690 words (6090877 words/s), 527360 word types, 0 tags\n",
      "INFO:gensim.models.doc2vec:PROGRESS: at example #780000, processed 106017802 words (5591898 words/s), 530611 word types, 0 tags\n",
      "INFO:gensim.models.doc2vec:PROGRESS: at example #790000, processed 107378178 words (5824660 words/s), 534276 word types, 0 tags\n",
      "INFO:gensim.models.doc2vec:PROGRESS: at example #800000, processed 108736748 words (5810447 words/s), 537926 word types, 0 tags\n",
      "INFO:gensim.models.doc2vec:PROGRESS: at example #810000, processed 110111745 words (5737984 words/s), 541425 word types, 0 tags\n",
      "INFO:gensim.models.doc2vec:PROGRESS: at example #820000, processed 111471009 words (5681882 words/s), 544887 word types, 0 tags\n",
      "INFO:gensim.models.doc2vec:PROGRESS: at example #830000, processed 112841366 words (5709393 words/s), 548623 word types, 0 tags\n",
      "INFO:gensim.models.doc2vec:PROGRESS: at example #840000, processed 114204267 words (5711989 words/s), 552305 word types, 0 tags\n",
      "INFO:gensim.models.doc2vec:PROGRESS: at example #850000, processed 115557962 words (5549908 words/s), 555412 word types, 0 tags\n",
      "INFO:gensim.models.doc2vec:PROGRESS: at example #860000, processed 116916441 words (5719687 words/s), 558576 word types, 0 tags\n",
      "INFO:gensim.models.doc2vec:collected 560448 word types and 866183 unique tags from a corpus of 866183 examples and 117751998 words\n",
      "INFO:gensim.models.word2vec:Creating a fresh vocabulary\n",
      "INFO:gensim.utils:Doc2Vec lifecycle event {'msg': 'effective_min_count=5 retains 158872 unique words (28.35% of original 560448, drops 401576)', 'datetime': '2023-04-08T14:07:52.561242', 'gensim': '4.3.1', 'python': '3.9.12 (main, Mar 26 2022, 15:51:13) \\n[Clang 12.0.0 (clang-1200.0.32.29)]', 'platform': 'macOS-10.16-x86_64-i386-64bit', 'event': 'prepare_vocab'}\n",
      "INFO:gensim.utils:Doc2Vec lifecycle event {'msg': 'effective_min_count=5 leaves 117102677 word corpus (99.45% of original 117751998, drops 649321)', 'datetime': '2023-04-08T14:07:52.561872', 'gensim': '4.3.1', 'python': '3.9.12 (main, Mar 26 2022, 15:51:13) \\n[Clang 12.0.0 (clang-1200.0.32.29)]', 'platform': 'macOS-10.16-x86_64-i386-64bit', 'event': 'prepare_vocab'}\n",
      "INFO:gensim.models.word2vec:deleting the raw counts dictionary of 560448 items\n",
      "INFO:gensim.models.word2vec:sample=0.001 downsamples 39 most-common words\n",
      "INFO:gensim.utils:Doc2Vec lifecycle event {'msg': 'downsampling leaves estimated 92425613.47374666 word corpus (78.9%% of prior 117102677)', 'datetime': '2023-04-08T14:07:53.368117', 'gensim': '4.3.1', 'python': '3.9.12 (main, Mar 26 2022, 15:51:13) \\n[Clang 12.0.0 (clang-1200.0.32.29)]', 'platform': 'macOS-10.16-x86_64-i386-64bit', 'event': 'prepare_vocab'}\n",
      "WARNING:gensim.models.keyedvectors:sorting after vectors have been allocated is expensive & error-prone\n",
      "INFO:gensim.models.word2vec:estimated required memory for 158872 words and 100 dimensions: 726243400 bytes\n",
      "INFO:gensim.models.word2vec:resetting layer weights\n"
     ]
    },
    {
     "name": "stdout",
     "output_type": "stream",
     "text": [
      "Time to build vocab: 0.39 mins\n",
      "CPU times: user 23.2 s, sys: 143 ms, total: 23.4 s\n",
      "Wall time: 23.4 s\n"
     ]
    }
   ],
   "source": [
    "%%time\n",
    "\n",
    "t = time()\n",
    "d2v_model.build_vocab(documents, progress_per=10000)\n",
    "print(\"Time to build vocab: {} mins\".format(round((time() - t) / 60, 2)))"
   ]
  },
  {
   "cell_type": "code",
   "execution_count": 21,
   "id": "4ccd69cc",
   "metadata": {},
   "outputs": [
    {
     "name": "stderr",
     "output_type": "stream",
     "text": [
      "INFO:gensim.utils:Doc2Vec lifecycle event {'msg': 'training model with 3 workers on 158872 vocabulary and 100 features, using sg=0 hs=0 sample=0.001 negative=5 window=5 shrink_windows=True', 'datetime': '2023-04-08T14:28:03.947449', 'gensim': '4.3.1', 'python': '3.9.12 (main, Mar 26 2022, 15:51:13) \\n[Clang 12.0.0 (clang-1200.0.32.29)]', 'platform': 'macOS-10.16-x86_64-i386-64bit', 'event': 'train'}\n",
      "INFO:gensim.models.word2vec:EPOCH 0 - PROGRESS: at 1.09% examples, 1002209 words/s, in_qsize 6, out_qsize 0\n",
      "INFO:gensim.models.word2vec:EPOCH 0 - PROGRESS: at 2.20% examples, 1021182 words/s, in_qsize 5, out_qsize 0\n",
      "INFO:gensim.models.word2vec:EPOCH 0 - PROGRESS: at 3.33% examples, 1028583 words/s, in_qsize 5, out_qsize 0\n",
      "INFO:gensim.models.word2vec:EPOCH 0 - PROGRESS: at 4.42% examples, 1022899 words/s, in_qsize 5, out_qsize 0\n",
      "INFO:gensim.models.word2vec:EPOCH 0 - PROGRESS: at 5.43% examples, 1004264 words/s, in_qsize 5, out_qsize 0\n",
      "INFO:gensim.models.word2vec:EPOCH 0 - PROGRESS: at 6.44% examples, 994605 words/s, in_qsize 5, out_qsize 0\n",
      "INFO:gensim.models.word2vec:EPOCH 0 - PROGRESS: at 7.37% examples, 976722 words/s, in_qsize 5, out_qsize 0\n",
      "INFO:gensim.models.word2vec:EPOCH 0 - PROGRESS: at 8.36% examples, 970928 words/s, in_qsize 5, out_qsize 0\n",
      "INFO:gensim.models.word2vec:EPOCH 0 - PROGRESS: at 9.43% examples, 974602 words/s, in_qsize 5, out_qsize 0\n",
      "INFO:gensim.models.word2vec:EPOCH 0 - PROGRESS: at 10.55% examples, 982631 words/s, in_qsize 5, out_qsize 0\n",
      "INFO:gensim.models.word2vec:EPOCH 0 - PROGRESS: at 11.66% examples, 987542 words/s, in_qsize 6, out_qsize 0\n",
      "INFO:gensim.models.word2vec:EPOCH 0 - PROGRESS: at 12.80% examples, 992976 words/s, in_qsize 5, out_qsize 0\n",
      "INFO:gensim.models.word2vec:EPOCH 0 - PROGRESS: at 13.91% examples, 997143 words/s, in_qsize 6, out_qsize 0\n",
      "INFO:gensim.models.word2vec:EPOCH 0 - PROGRESS: at 15.03% examples, 999790 words/s, in_qsize 5, out_qsize 0\n",
      "INFO:gensim.models.word2vec:EPOCH 0 - PROGRESS: at 16.17% examples, 1003086 words/s, in_qsize 5, out_qsize 0\n",
      "INFO:gensim.models.word2vec:EPOCH 0 - PROGRESS: at 17.28% examples, 1005507 words/s, in_qsize 5, out_qsize 0\n",
      "INFO:gensim.models.word2vec:EPOCH 0 - PROGRESS: at 18.44% examples, 1008761 words/s, in_qsize 6, out_qsize 1\n",
      "INFO:gensim.models.word2vec:EPOCH 0 - PROGRESS: at 19.58% examples, 1011724 words/s, in_qsize 5, out_qsize 0\n",
      "INFO:gensim.models.word2vec:EPOCH 0 - PROGRESS: at 20.66% examples, 1010301 words/s, in_qsize 5, out_qsize 0\n",
      "INFO:gensim.models.word2vec:EPOCH 0 - PROGRESS: at 21.64% examples, 1005036 words/s, in_qsize 5, out_qsize 0\n",
      "INFO:gensim.models.word2vec:EPOCH 0 - PROGRESS: at 22.70% examples, 1004535 words/s, in_qsize 5, out_qsize 0\n",
      "INFO:gensim.models.word2vec:EPOCH 0 - PROGRESS: at 23.74% examples, 1002413 words/s, in_qsize 6, out_qsize 0\n",
      "INFO:gensim.models.word2vec:EPOCH 0 - PROGRESS: at 24.82% examples, 1002262 words/s, in_qsize 5, out_qsize 0\n",
      "INFO:gensim.models.word2vec:EPOCH 0 - PROGRESS: at 25.82% examples, 999598 words/s, in_qsize 5, out_qsize 0\n",
      "INFO:gensim.models.word2vec:EPOCH 0 - PROGRESS: at 26.88% examples, 999117 words/s, in_qsize 6, out_qsize 0\n",
      "INFO:gensim.models.word2vec:EPOCH 0 - PROGRESS: at 27.94% examples, 998268 words/s, in_qsize 5, out_qsize 0\n",
      "INFO:gensim.models.word2vec:EPOCH 0 - PROGRESS: at 29.05% examples, 999009 words/s, in_qsize 5, out_qsize 0\n",
      "INFO:gensim.models.word2vec:EPOCH 0 - PROGRESS: at 30.12% examples, 998391 words/s, in_qsize 5, out_qsize 0\n",
      "INFO:gensim.models.word2vec:EPOCH 0 - PROGRESS: at 31.19% examples, 997946 words/s, in_qsize 6, out_qsize 0\n",
      "INFO:gensim.models.word2vec:EPOCH 0 - PROGRESS: at 32.27% examples, 997824 words/s, in_qsize 6, out_qsize 0\n",
      "INFO:gensim.models.word2vec:EPOCH 0 - PROGRESS: at 33.34% examples, 997553 words/s, in_qsize 5, out_qsize 0\n",
      "INFO:gensim.models.word2vec:EPOCH 0 - PROGRESS: at 34.43% examples, 998089 words/s, in_qsize 6, out_qsize 0\n",
      "INFO:gensim.models.word2vec:EPOCH 0 - PROGRESS: at 35.51% examples, 997935 words/s, in_qsize 6, out_qsize 0\n",
      "INFO:gensim.models.word2vec:EPOCH 0 - PROGRESS: at 36.55% examples, 996924 words/s, in_qsize 5, out_qsize 0\n",
      "INFO:gensim.models.word2vec:EPOCH 0 - PROGRESS: at 37.54% examples, 994473 words/s, in_qsize 6, out_qsize 0\n",
      "INFO:gensim.models.word2vec:EPOCH 0 - PROGRESS: at 38.32% examples, 987066 words/s, in_qsize 6, out_qsize 0\n",
      "INFO:gensim.models.word2vec:EPOCH 0 - PROGRESS: at 39.35% examples, 986163 words/s, in_qsize 5, out_qsize 0\n",
      "INFO:gensim.models.word2vec:EPOCH 0 - PROGRESS: at 40.31% examples, 983584 words/s, in_qsize 5, out_qsize 0\n",
      "INFO:gensim.models.word2vec:EPOCH 0 - PROGRESS: at 41.36% examples, 983470 words/s, in_qsize 5, out_qsize 0\n",
      "INFO:gensim.models.word2vec:EPOCH 0 - PROGRESS: at 42.44% examples, 984024 words/s, in_qsize 5, out_qsize 0\n",
      "INFO:gensim.models.word2vec:EPOCH 0 - PROGRESS: at 43.45% examples, 982985 words/s, in_qsize 5, out_qsize 0\n",
      "INFO:gensim.models.word2vec:EPOCH 0 - PROGRESS: at 44.46% examples, 982049 words/s, in_qsize 5, out_qsize 0\n",
      "INFO:gensim.models.word2vec:EPOCH 0 - PROGRESS: at 45.54% examples, 982448 words/s, in_qsize 5, out_qsize 0\n",
      "INFO:gensim.models.word2vec:EPOCH 0 - PROGRESS: at 46.58% examples, 982267 words/s, in_qsize 5, out_qsize 0\n",
      "INFO:gensim.models.word2vec:EPOCH 0 - PROGRESS: at 47.67% examples, 982709 words/s, in_qsize 5, out_qsize 0\n",
      "INFO:gensim.models.word2vec:EPOCH 0 - PROGRESS: at 48.76% examples, 983133 words/s, in_qsize 5, out_qsize 0\n",
      "INFO:gensim.models.word2vec:EPOCH 0 - PROGRESS: at 49.84% examples, 983703 words/s, in_qsize 5, out_qsize 0\n",
      "INFO:gensim.models.word2vec:EPOCH 0 - PROGRESS: at 50.90% examples, 983609 words/s, in_qsize 5, out_qsize 0\n",
      "INFO:gensim.models.word2vec:EPOCH 0 - PROGRESS: at 51.98% examples, 984122 words/s, in_qsize 5, out_qsize 0\n",
      "INFO:gensim.models.word2vec:EPOCH 0 - PROGRESS: at 53.06% examples, 984496 words/s, in_qsize 6, out_qsize 0\n",
      "INFO:gensim.models.word2vec:EPOCH 0 - PROGRESS: at 54.13% examples, 984945 words/s, in_qsize 5, out_qsize 0\n",
      "INFO:gensim.models.word2vec:EPOCH 0 - PROGRESS: at 55.23% examples, 985306 words/s, in_qsize 5, out_qsize 0\n",
      "INFO:gensim.models.word2vec:EPOCH 0 - PROGRESS: at 56.33% examples, 985530 words/s, in_qsize 6, out_qsize 0\n",
      "INFO:gensim.models.word2vec:EPOCH 0 - PROGRESS: at 57.41% examples, 985883 words/s, in_qsize 6, out_qsize 0\n",
      "INFO:gensim.models.word2vec:EPOCH 0 - PROGRESS: at 58.50% examples, 986323 words/s, in_qsize 5, out_qsize 0\n",
      "INFO:gensim.models.word2vec:EPOCH 0 - PROGRESS: at 59.57% examples, 986708 words/s, in_qsize 6, out_qsize 0\n",
      "INFO:gensim.models.word2vec:EPOCH 0 - PROGRESS: at 60.65% examples, 987075 words/s, in_qsize 5, out_qsize 0\n",
      "INFO:gensim.models.word2vec:EPOCH 0 - PROGRESS: at 61.74% examples, 987372 words/s, in_qsize 5, out_qsize 0\n",
      "INFO:gensim.models.word2vec:EPOCH 0 - PROGRESS: at 62.81% examples, 987629 words/s, in_qsize 5, out_qsize 0\n",
      "INFO:gensim.models.word2vec:EPOCH 0 - PROGRESS: at 63.89% examples, 987813 words/s, in_qsize 6, out_qsize 0\n",
      "INFO:gensim.models.word2vec:EPOCH 0 - PROGRESS: at 64.97% examples, 988135 words/s, in_qsize 6, out_qsize 0\n",
      "INFO:gensim.models.word2vec:EPOCH 0 - PROGRESS: at 66.06% examples, 988300 words/s, in_qsize 5, out_qsize 0\n",
      "INFO:gensim.models.word2vec:EPOCH 0 - PROGRESS: at 67.14% examples, 988592 words/s, in_qsize 6, out_qsize 0\n",
      "INFO:gensim.models.word2vec:EPOCH 0 - PROGRESS: at 68.22% examples, 988733 words/s, in_qsize 5, out_qsize 0\n",
      "INFO:gensim.models.word2vec:EPOCH 0 - PROGRESS: at 69.27% examples, 988398 words/s, in_qsize 5, out_qsize 0\n",
      "INFO:gensim.models.word2vec:EPOCH 0 - PROGRESS: at 70.34% examples, 988640 words/s, in_qsize 5, out_qsize 0\n",
      "INFO:gensim.models.word2vec:EPOCH 0 - PROGRESS: at 71.42% examples, 989008 words/s, in_qsize 5, out_qsize 0\n",
      "INFO:gensim.models.word2vec:EPOCH 0 - PROGRESS: at 72.50% examples, 989224 words/s, in_qsize 5, out_qsize 0\n",
      "INFO:gensim.models.word2vec:EPOCH 0 - PROGRESS: at 73.59% examples, 989261 words/s, in_qsize 5, out_qsize 0\n",
      "INFO:gensim.models.word2vec:EPOCH 0 - PROGRESS: at 74.67% examples, 989460 words/s, in_qsize 5, out_qsize 0\n",
      "INFO:gensim.models.word2vec:EPOCH 0 - PROGRESS: at 75.76% examples, 989624 words/s, in_qsize 5, out_qsize 0\n",
      "INFO:gensim.models.word2vec:EPOCH 0 - PROGRESS: at 76.85% examples, 989848 words/s, in_qsize 5, out_qsize 0\n",
      "INFO:gensim.models.word2vec:EPOCH 0 - PROGRESS: at 77.93% examples, 990102 words/s, in_qsize 5, out_qsize 0\n"
     ]
    },
    {
     "name": "stderr",
     "output_type": "stream",
     "text": [
      "INFO:gensim.models.word2vec:EPOCH 0 - PROGRESS: at 78.98% examples, 989909 words/s, in_qsize 5, out_qsize 0\n",
      "INFO:gensim.models.word2vec:EPOCH 0 - PROGRESS: at 80.07% examples, 990070 words/s, in_qsize 5, out_qsize 0\n",
      "INFO:gensim.models.word2vec:EPOCH 0 - PROGRESS: at 81.16% examples, 990267 words/s, in_qsize 6, out_qsize 0\n",
      "INFO:gensim.models.word2vec:EPOCH 0 - PROGRESS: at 82.25% examples, 990425 words/s, in_qsize 5, out_qsize 0\n",
      "INFO:gensim.models.word2vec:EPOCH 0 - PROGRESS: at 83.33% examples, 990277 words/s, in_qsize 5, out_qsize 0\n",
      "INFO:gensim.models.word2vec:EPOCH 0 - PROGRESS: at 84.42% examples, 990621 words/s, in_qsize 5, out_qsize 0\n",
      "INFO:gensim.models.word2vec:EPOCH 0 - PROGRESS: at 85.49% examples, 990736 words/s, in_qsize 6, out_qsize 0\n",
      "INFO:gensim.models.word2vec:EPOCH 0 - PROGRESS: at 86.58% examples, 990850 words/s, in_qsize 4, out_qsize 1\n",
      "INFO:gensim.models.word2vec:EPOCH 0 - PROGRESS: at 87.67% examples, 991106 words/s, in_qsize 5, out_qsize 0\n",
      "INFO:gensim.models.word2vec:EPOCH 0 - PROGRESS: at 88.76% examples, 991258 words/s, in_qsize 5, out_qsize 0\n",
      "INFO:gensim.models.word2vec:EPOCH 0 - PROGRESS: at 89.84% examples, 991283 words/s, in_qsize 5, out_qsize 0\n",
      "INFO:gensim.models.word2vec:EPOCH 0 - PROGRESS: at 90.92% examples, 991487 words/s, in_qsize 5, out_qsize 0\n",
      "INFO:gensim.models.word2vec:EPOCH 0 - PROGRESS: at 91.99% examples, 991600 words/s, in_qsize 5, out_qsize 0\n",
      "INFO:gensim.models.word2vec:EPOCH 0 - PROGRESS: at 93.08% examples, 991815 words/s, in_qsize 5, out_qsize 0\n",
      "INFO:gensim.models.word2vec:EPOCH 0 - PROGRESS: at 94.15% examples, 992004 words/s, in_qsize 5, out_qsize 0\n",
      "INFO:gensim.models.word2vec:EPOCH 0 - PROGRESS: at 95.22% examples, 992129 words/s, in_qsize 5, out_qsize 0\n",
      "INFO:gensim.models.word2vec:EPOCH 0 - PROGRESS: at 96.31% examples, 992280 words/s, in_qsize 4, out_qsize 1\n",
      "INFO:gensim.models.word2vec:EPOCH 0 - PROGRESS: at 97.40% examples, 992528 words/s, in_qsize 5, out_qsize 0\n",
      "INFO:gensim.models.word2vec:EPOCH 0 - PROGRESS: at 98.48% examples, 992567 words/s, in_qsize 6, out_qsize 0\n",
      "INFO:gensim.models.word2vec:EPOCH 0 - PROGRESS: at 99.58% examples, 992834 words/s, in_qsize 6, out_qsize 0\n",
      "INFO:gensim.models.word2vec:EPOCH 0: training on 117751998 raw words (93289663 effective words) took 94.0s, 992876 effective words/s\n",
      "INFO:gensim.models.word2vec:EPOCH 1 - PROGRESS: at 1.09% examples, 1018070 words/s, in_qsize 6, out_qsize 0\n",
      "INFO:gensim.models.word2vec:EPOCH 1 - PROGRESS: at 2.20% examples, 1023578 words/s, in_qsize 5, out_qsize 0\n",
      "INFO:gensim.models.word2vec:EPOCH 1 - PROGRESS: at 3.28% examples, 1018947 words/s, in_qsize 6, out_qsize 0\n",
      "INFO:gensim.models.word2vec:EPOCH 1 - PROGRESS: at 4.39% examples, 1018365 words/s, in_qsize 5, out_qsize 0\n",
      "INFO:gensim.models.word2vec:EPOCH 1 - PROGRESS: at 5.47% examples, 1014534 words/s, in_qsize 5, out_qsize 0\n",
      "INFO:gensim.models.word2vec:EPOCH 1 - PROGRESS: at 6.55% examples, 1013908 words/s, in_qsize 5, out_qsize 0\n",
      "INFO:gensim.models.word2vec:EPOCH 1 - PROGRESS: at 7.65% examples, 1013902 words/s, in_qsize 5, out_qsize 0\n",
      "INFO:gensim.models.word2vec:EPOCH 1 - PROGRESS: at 8.73% examples, 1014207 words/s, in_qsize 6, out_qsize 0\n",
      "INFO:gensim.models.word2vec:EPOCH 1 - PROGRESS: at 9.81% examples, 1015168 words/s, in_qsize 5, out_qsize 0\n",
      "INFO:gensim.models.word2vec:EPOCH 1 - PROGRESS: at 10.87% examples, 1013610 words/s, in_qsize 5, out_qsize 0\n",
      "INFO:gensim.models.word2vec:EPOCH 1 - PROGRESS: at 11.96% examples, 1013167 words/s, in_qsize 5, out_qsize 0\n",
      "INFO:gensim.models.word2vec:EPOCH 1 - PROGRESS: at 13.06% examples, 1013686 words/s, in_qsize 5, out_qsize 0\n",
      "INFO:gensim.models.word2vec:EPOCH 1 - PROGRESS: at 14.14% examples, 1013843 words/s, in_qsize 5, out_qsize 0\n",
      "INFO:gensim.models.word2vec:EPOCH 1 - PROGRESS: at 15.23% examples, 1013439 words/s, in_qsize 5, out_qsize 0\n",
      "INFO:gensim.models.word2vec:EPOCH 1 - PROGRESS: at 16.34% examples, 1013330 words/s, in_qsize 5, out_qsize 0\n",
      "INFO:gensim.models.word2vec:EPOCH 1 - PROGRESS: at 17.44% examples, 1013491 words/s, in_qsize 5, out_qsize 0\n",
      "INFO:gensim.models.word2vec:EPOCH 1 - PROGRESS: at 18.53% examples, 1013798 words/s, in_qsize 5, out_qsize 0\n",
      "INFO:gensim.models.word2vec:EPOCH 1 - PROGRESS: at 19.62% examples, 1013871 words/s, in_qsize 5, out_qsize 0\n",
      "INFO:gensim.models.word2vec:EPOCH 1 - PROGRESS: at 20.73% examples, 1013338 words/s, in_qsize 5, out_qsize 0\n",
      "INFO:gensim.models.word2vec:EPOCH 1 - PROGRESS: at 21.82% examples, 1013544 words/s, in_qsize 5, out_qsize 0\n",
      "INFO:gensim.models.word2vec:EPOCH 1 - PROGRESS: at 22.90% examples, 1013566 words/s, in_qsize 5, out_qsize 0\n",
      "INFO:gensim.models.word2vec:EPOCH 1 - PROGRESS: at 23.97% examples, 1012416 words/s, in_qsize 5, out_qsize 0\n",
      "INFO:gensim.models.word2vec:EPOCH 1 - PROGRESS: at 25.07% examples, 1012377 words/s, in_qsize 5, out_qsize 0\n",
      "INFO:gensim.models.word2vec:EPOCH 1 - PROGRESS: at 26.13% examples, 1012005 words/s, in_qsize 5, out_qsize 0\n",
      "INFO:gensim.models.word2vec:EPOCH 1 - PROGRESS: at 27.16% examples, 1009477 words/s, in_qsize 6, out_qsize 0\n",
      "INFO:gensim.models.word2vec:EPOCH 1 - PROGRESS: at 28.21% examples, 1007323 words/s, in_qsize 5, out_qsize 0\n",
      "INFO:gensim.models.word2vec:EPOCH 1 - PROGRESS: at 29.27% examples, 1006354 words/s, in_qsize 5, out_qsize 0\n",
      "INFO:gensim.models.word2vec:EPOCH 1 - PROGRESS: at 30.29% examples, 1004154 words/s, in_qsize 5, out_qsize 0\n",
      "INFO:gensim.models.word2vec:EPOCH 1 - PROGRESS: at 31.39% examples, 1004148 words/s, in_qsize 5, out_qsize 0\n",
      "INFO:gensim.models.word2vec:EPOCH 1 - PROGRESS: at 32.39% examples, 1001526 words/s, in_qsize 6, out_qsize 0\n",
      "INFO:gensim.models.word2vec:EPOCH 1 - PROGRESS: at 33.50% examples, 1002613 words/s, in_qsize 6, out_qsize 0\n",
      "INFO:gensim.models.word2vec:EPOCH 1 - PROGRESS: at 34.48% examples, 999552 words/s, in_qsize 6, out_qsize 0\n",
      "INFO:gensim.models.word2vec:EPOCH 1 - PROGRESS: at 35.55% examples, 999101 words/s, in_qsize 5, out_qsize 0\n",
      "INFO:gensim.models.word2vec:EPOCH 1 - PROGRESS: at 36.67% examples, 999888 words/s, in_qsize 5, out_qsize 0\n",
      "INFO:gensim.models.word2vec:EPOCH 1 - PROGRESS: at 37.79% examples, 1001115 words/s, in_qsize 5, out_qsize 0\n",
      "INFO:gensim.models.word2vec:EPOCH 1 - PROGRESS: at 38.92% examples, 1002369 words/s, in_qsize 5, out_qsize 0\n",
      "INFO:gensim.models.word2vec:EPOCH 1 - PROGRESS: at 40.06% examples, 1003585 words/s, in_qsize 5, out_qsize 0\n",
      "INFO:gensim.models.word2vec:EPOCH 1 - PROGRESS: at 41.14% examples, 1003682 words/s, in_qsize 5, out_qsize 0\n",
      "INFO:gensim.models.word2vec:EPOCH 1 - PROGRESS: at 42.20% examples, 1003228 words/s, in_qsize 5, out_qsize 0\n",
      "INFO:gensim.models.word2vec:EPOCH 1 - PROGRESS: at 43.30% examples, 1003701 words/s, in_qsize 5, out_qsize 0\n",
      "INFO:gensim.models.word2vec:EPOCH 1 - PROGRESS: at 44.25% examples, 1001029 words/s, in_qsize 5, out_qsize 0\n",
      "INFO:gensim.models.word2vec:EPOCH 1 - PROGRESS: at 45.23% examples, 999205 words/s, in_qsize 5, out_qsize 0\n",
      "INFO:gensim.models.word2vec:EPOCH 1 - PROGRESS: at 46.20% examples, 996780 words/s, in_qsize 5, out_qsize 0\n",
      "INFO:gensim.models.word2vec:EPOCH 1 - PROGRESS: at 47.30% examples, 997336 words/s, in_qsize 5, out_qsize 0\n",
      "INFO:gensim.models.word2vec:EPOCH 1 - PROGRESS: at 48.42% examples, 997984 words/s, in_qsize 5, out_qsize 0\n",
      "INFO:gensim.models.word2vec:EPOCH 1 - PROGRESS: at 49.42% examples, 996580 words/s, in_qsize 5, out_qsize 0\n",
      "INFO:gensim.models.word2vec:EPOCH 1 - PROGRESS: at 50.55% examples, 997481 words/s, in_qsize 6, out_qsize 0\n",
      "INFO:gensim.models.word2vec:EPOCH 1 - PROGRESS: at 51.61% examples, 997300 words/s, in_qsize 5, out_qsize 0\n",
      "INFO:gensim.models.word2vec:EPOCH 1 - PROGRESS: at 52.68% examples, 997201 words/s, in_qsize 5, out_qsize 0\n",
      "INFO:gensim.models.word2vec:EPOCH 1 - PROGRESS: at 53.80% examples, 998314 words/s, in_qsize 5, out_qsize 0\n",
      "INFO:gensim.models.word2vec:EPOCH 1 - PROGRESS: at 54.94% examples, 999323 words/s, in_qsize 5, out_qsize 0\n",
      "INFO:gensim.models.word2vec:EPOCH 1 - PROGRESS: at 56.09% examples, 1000211 words/s, in_qsize 5, out_qsize 0\n",
      "INFO:gensim.models.word2vec:EPOCH 1 - PROGRESS: at 57.21% examples, 1000785 words/s, in_qsize 5, out_qsize 0\n",
      "INFO:gensim.models.word2vec:EPOCH 1 - PROGRESS: at 58.28% examples, 1000847 words/s, in_qsize 5, out_qsize 0\n",
      "INFO:gensim.models.word2vec:EPOCH 1 - PROGRESS: at 59.39% examples, 1001356 words/s, in_qsize 6, out_qsize 0\n"
     ]
    },
    {
     "name": "stderr",
     "output_type": "stream",
     "text": [
      "INFO:gensim.models.word2vec:EPOCH 1 - PROGRESS: at 60.43% examples, 1000996 words/s, in_qsize 5, out_qsize 0\n",
      "INFO:gensim.models.word2vec:EPOCH 1 - PROGRESS: at 61.57% examples, 1001891 words/s, in_qsize 5, out_qsize 0\n",
      "INFO:gensim.models.word2vec:EPOCH 1 - PROGRESS: at 62.60% examples, 1001367 words/s, in_qsize 5, out_qsize 0\n",
      "INFO:gensim.models.word2vec:EPOCH 1 - PROGRESS: at 63.70% examples, 1001599 words/s, in_qsize 5, out_qsize 0\n",
      "INFO:gensim.models.word2vec:EPOCH 1 - PROGRESS: at 64.80% examples, 1002005 words/s, in_qsize 5, out_qsize 0\n",
      "INFO:gensim.models.word2vec:EPOCH 1 - PROGRESS: at 65.87% examples, 1001775 words/s, in_qsize 6, out_qsize 0\n",
      "INFO:gensim.models.word2vec:EPOCH 1 - PROGRESS: at 66.89% examples, 1000967 words/s, in_qsize 5, out_qsize 0\n",
      "INFO:gensim.models.word2vec:EPOCH 1 - PROGRESS: at 67.87% examples, 999474 words/s, in_qsize 5, out_qsize 0\n",
      "INFO:gensim.models.word2vec:EPOCH 1 - PROGRESS: at 68.91% examples, 999029 words/s, in_qsize 5, out_qsize 0\n",
      "INFO:gensim.models.word2vec:EPOCH 1 - PROGRESS: at 69.96% examples, 998642 words/s, in_qsize 5, out_qsize 0\n",
      "INFO:gensim.models.word2vec:EPOCH 1 - PROGRESS: at 70.99% examples, 998169 words/s, in_qsize 5, out_qsize 0\n",
      "INFO:gensim.models.word2vec:EPOCH 1 - PROGRESS: at 72.09% examples, 998414 words/s, in_qsize 5, out_qsize 0\n",
      "INFO:gensim.models.word2vec:EPOCH 1 - PROGRESS: at 73.17% examples, 998470 words/s, in_qsize 5, out_qsize 0\n",
      "INFO:gensim.models.word2vec:EPOCH 1 - PROGRESS: at 74.25% examples, 998294 words/s, in_qsize 5, out_qsize 0\n",
      "INFO:gensim.models.word2vec:EPOCH 1 - PROGRESS: at 75.22% examples, 996714 words/s, in_qsize 5, out_qsize 0\n",
      "INFO:gensim.models.word2vec:EPOCH 1 - PROGRESS: at 76.19% examples, 995437 words/s, in_qsize 5, out_qsize 0\n",
      "INFO:gensim.models.word2vec:EPOCH 1 - PROGRESS: at 77.27% examples, 995451 words/s, in_qsize 5, out_qsize 0\n",
      "INFO:gensim.models.word2vec:EPOCH 1 - PROGRESS: at 78.35% examples, 995381 words/s, in_qsize 5, out_qsize 0\n",
      "INFO:gensim.models.word2vec:EPOCH 1 - PROGRESS: at 79.44% examples, 995612 words/s, in_qsize 5, out_qsize 0\n",
      "INFO:gensim.models.word2vec:EPOCH 1 - PROGRESS: at 80.55% examples, 995837 words/s, in_qsize 5, out_qsize 0\n",
      "INFO:gensim.models.word2vec:EPOCH 1 - PROGRESS: at 81.43% examples, 993491 words/s, in_qsize 5, out_qsize 0\n",
      "INFO:gensim.models.word2vec:EPOCH 1 - PROGRESS: at 82.27% examples, 990536 words/s, in_qsize 6, out_qsize 0\n",
      "INFO:gensim.models.word2vec:EPOCH 1 - PROGRESS: at 83.30% examples, 990102 words/s, in_qsize 5, out_qsize 0\n",
      "INFO:gensim.models.word2vec:EPOCH 1 - PROGRESS: at 84.37% examples, 990176 words/s, in_qsize 5, out_qsize 0\n",
      "INFO:gensim.models.word2vec:EPOCH 1 - PROGRESS: at 85.35% examples, 989152 words/s, in_qsize 5, out_qsize 0\n",
      "INFO:gensim.models.word2vec:EPOCH 1 - PROGRESS: at 86.35% examples, 988399 words/s, in_qsize 6, out_qsize 0\n",
      "INFO:gensim.models.word2vec:EPOCH 1 - PROGRESS: at 87.48% examples, 988990 words/s, in_qsize 5, out_qsize 0\n",
      "INFO:gensim.models.word2vec:EPOCH 1 - PROGRESS: at 88.59% examples, 989287 words/s, in_qsize 5, out_qsize 0\n",
      "INFO:gensim.models.word2vec:EPOCH 1 - PROGRESS: at 89.57% examples, 988283 words/s, in_qsize 5, out_qsize 0\n",
      "INFO:gensim.models.word2vec:EPOCH 1 - PROGRESS: at 90.68% examples, 988766 words/s, in_qsize 6, out_qsize 0\n",
      "INFO:gensim.models.word2vec:EPOCH 1 - PROGRESS: at 91.76% examples, 988928 words/s, in_qsize 5, out_qsize 0\n",
      "INFO:gensim.models.word2vec:EPOCH 1 - PROGRESS: at 92.83% examples, 988955 words/s, in_qsize 5, out_qsize 0\n",
      "INFO:gensim.models.word2vec:EPOCH 1 - PROGRESS: at 93.92% examples, 989273 words/s, in_qsize 5, out_qsize 0\n",
      "INFO:gensim.models.word2vec:EPOCH 1 - PROGRESS: at 95.00% examples, 989460 words/s, in_qsize 5, out_qsize 0\n",
      "INFO:gensim.models.word2vec:EPOCH 1 - PROGRESS: at 96.11% examples, 989840 words/s, in_qsize 5, out_qsize 0\n",
      "INFO:gensim.models.word2vec:EPOCH 1 - PROGRESS: at 97.24% examples, 990480 words/s, in_qsize 5, out_qsize 0\n",
      "INFO:gensim.models.word2vec:EPOCH 1 - PROGRESS: at 98.37% examples, 991182 words/s, in_qsize 5, out_qsize 0\n",
      "INFO:gensim.models.word2vec:EPOCH 1 - PROGRESS: at 99.52% examples, 991963 words/s, in_qsize 5, out_qsize 0\n",
      "INFO:gensim.models.word2vec:EPOCH 1: training on 117751998 raw words (93290640 effective words) took 94.0s, 992291 effective words/s\n",
      "INFO:gensim.utils:Doc2Vec lifecycle event {'msg': 'training on 235503996 raw words (186580303 effective words) took 188.0s, 992555 effective words/s', 'datetime': '2023-04-08T14:31:11.933229', 'gensim': '4.3.1', 'python': '3.9.12 (main, Mar 26 2022, 15:51:13) \\n[Clang 12.0.0 (clang-1200.0.32.29)]', 'platform': 'macOS-10.16-x86_64-i386-64bit', 'event': 'train'}\n"
     ]
    },
    {
     "name": "stdout",
     "output_type": "stream",
     "text": [
      "Time to train the model: 3.13 mins\n"
     ]
    }
   ],
   "source": [
    "t = time()\n",
    "\n",
    "d2v_model.train(\n",
    "    documents, total_examples=d2v_model.corpus_count, epochs=2, report_delay=1\n",
    ")\n",
    "\n",
    "print(\"Time to train the model: {} mins\".format(round((time() - t) / 60, 2)))"
   ]
  },
  {
   "cell_type": "code",
   "execution_count": 22,
   "id": "68119075",
   "metadata": {},
   "outputs": [
    {
     "name": "stderr",
     "output_type": "stream",
     "text": [
      "INFO:gensim.utils:Doc2Vec lifecycle event {'fname_or_handle': 'doc2vec.model', 'separately': 'None', 'sep_limit': 10485760, 'ignore': frozenset(), 'datetime': '2023-04-08T14:37:29.396610', 'gensim': '4.3.1', 'python': '3.9.12 (main, Mar 26 2022, 15:51:13) \\n[Clang 12.0.0 (clang-1200.0.32.29)]', 'platform': 'macOS-10.16-x86_64-i386-64bit', 'event': 'saving'}\n",
      "INFO:gensim.utils:storing np array 'vectors' to doc2vec.model.dv.vectors.npy\n",
      "INFO:gensim.utils:storing np array 'vectors' to doc2vec.model.wv.vectors.npy\n",
      "INFO:gensim.utils:storing np array 'syn1neg' to doc2vec.model.syn1neg.npy\n",
      "INFO:gensim.utils:not storing attribute cum_table\n",
      "INFO:gensim.utils:saved doc2vec.model\n"
     ]
    }
   ],
   "source": [
    "# Saving and checkpointing\n",
    "d2v_model.save(\"doc2vec.model\")"
   ]
  },
  {
   "cell_type": "code",
   "execution_count": 23,
   "id": "a15fa706",
   "metadata": {},
   "outputs": [
    {
     "name": "stderr",
     "output_type": "stream",
     "text": [
      "INFO:gensim.utils:loading Doc2Vec object from doc2vec.model\n",
      "INFO:gensim.utils:loading dv recursively from doc2vec.model.dv.* with mmap=None\n",
      "INFO:gensim.utils:loading vectors from doc2vec.model.dv.vectors.npy with mmap=None\n",
      "INFO:gensim.utils:loading wv recursively from doc2vec.model.wv.* with mmap=None\n",
      "INFO:gensim.utils:loading vectors from doc2vec.model.wv.vectors.npy with mmap=None\n",
      "INFO:gensim.utils:loading syn1neg from doc2vec.model.syn1neg.npy with mmap=None\n",
      "INFO:gensim.utils:setting ignored attribute cum_table to None\n",
      "INFO:gensim.utils:Doc2Vec lifecycle event {'fname': 'doc2vec.model', 'datetime': '2023-04-08T14:38:19.271922', 'gensim': '4.3.1', 'python': '3.9.12 (main, Mar 26 2022, 15:51:13) \\n[Clang 12.0.0 (clang-1200.0.32.29)]', 'platform': 'macOS-10.16-x86_64-i386-64bit', 'event': 'loaded'}\n"
     ]
    }
   ],
   "source": [
    "doc2vec = Doc2Vec.load(\"doc2vec.model\")"
   ]
  },
  {
   "cell_type": "code",
   "execution_count": null,
   "id": "b8871a11",
   "metadata": {},
   "outputs": [],
   "source": [
    "vector = doc2vec.infer_vector([\"beauty\", \"and\", \"beast\"])"
   ]
  },
  {
   "cell_type": "code",
   "execution_count": 25,
   "id": "20eeb4dc",
   "metadata": {},
   "outputs": [
    {
     "data": {
      "text/plain": [
       "array([ 5.96549101e-02,  2.81587075e-02,  1.68257509e-03,  3.99970170e-03,\n",
       "        3.25109474e-02,  2.97387242e-02, -1.48083493e-02,  2.33485755e-02,\n",
       "       -1.96287036e-02,  6.48077391e-03,  3.23602669e-02,  6.90585840e-03,\n",
       "       -1.14664752e-02,  1.41324485e-02,  1.78273730e-02,  4.93371412e-02,\n",
       "       -3.17523889e-02,  2.58993711e-02,  4.18002345e-02, -2.90519521e-02,\n",
       "        1.19369654e-02, -4.80981870e-03,  1.06778555e-02,  1.89127382e-02,\n",
       "        1.88990764e-03,  3.68619757e-03, -2.82443734e-03,  2.90792249e-02,\n",
       "       -4.93242219e-02, -1.16954558e-02, -1.81634109e-02, -3.02275643e-02,\n",
       "       -2.44297795e-02, -4.53602523e-02, -5.11832302e-03, -1.70268933e-03,\n",
       "        8.01484957e-02,  1.69352796e-02,  4.79333941e-03, -8.11960490e-04,\n",
       "       -3.39033790e-02, -3.06029655e-02,  5.92718497e-02,  3.49485241e-02,\n",
       "        1.53242722e-02,  1.71042737e-02,  8.32467485e-05,  7.59258587e-03,\n",
       "       -4.83281619e-04,  1.44411232e-02,  3.68658034e-03, -5.00562647e-03,\n",
       "        2.15299986e-02, -5.50806560e-02, -4.47532982e-02, -3.03908307e-02,\n",
       "       -6.40074583e-03,  3.02696358e-02, -3.51089165e-02, -2.95822183e-03,\n",
       "       -3.91420256e-03, -2.57245954e-02,  5.02162939e-03,  1.60921714e-04,\n",
       "       -1.58938952e-02, -2.73869820e-02, -1.73512511e-02, -3.27965914e-04,\n",
       "        1.91895794e-02, -5.31257838e-02, -4.67229746e-02,  1.54201463e-02,\n",
       "       -1.93120502e-02, -3.05013154e-02,  6.75871968e-04, -7.12088170e-03,\n",
       "       -3.68789174e-02,  2.49355007e-02,  2.23948080e-02, -7.22051132e-03,\n",
       "        1.88544281e-02,  1.66785736e-02, -5.47860824e-02,  1.22442460e-02,\n",
       "        2.54080957e-03, -3.62508371e-02,  3.02279890e-02,  3.11765494e-03,\n",
       "       -3.93873937e-02, -2.80136950e-02, -2.97016418e-03,  5.47678908e-03,\n",
       "       -2.46774834e-02,  4.11031730e-02,  3.20873335e-02,  7.41751716e-02,\n",
       "        1.07587576e-02,  3.48526496e-03, -4.77253571e-02, -6.20523840e-03],\n",
       "      dtype=float32)"
      ]
     },
     "execution_count": 25,
     "metadata": {},
     "output_type": "execute_result"
    }
   ],
   "source": [
    "doc2vec."
   ]
  },
  {
   "cell_type": "code",
   "execution_count": null,
   "id": "35d4ab2d",
   "metadata": {},
   "outputs": [],
   "source": []
  }
 ],
 "metadata": {
  "kernelspec": {
   "display_name": "Python 3 (ipykernel)",
   "language": "python",
   "name": "python3"
  },
  "language_info": {
   "codemirror_mode": {
    "name": "ipython",
    "version": 3
   },
   "file_extension": ".py",
   "mimetype": "text/x-python",
   "name": "python",
   "nbconvert_exporter": "python",
   "pygments_lexer": "ipython3",
   "version": "3.11.4"
  }
 },
 "nbformat": 4,
 "nbformat_minor": 5
}
